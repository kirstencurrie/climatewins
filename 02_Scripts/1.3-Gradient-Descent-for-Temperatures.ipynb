{
 "cells": [
  {
   "cell_type": "markdown",
   "id": "66ff5e5a-c5b1-415d-8df4-658476c9dee2",
   "metadata": {},
   "source": [
    "# 1.3 Gradient Descent for Weather"
   ]
  },
  {
   "cell_type": "markdown",
   "id": "c6477389-5fd3-4338-b688-dff8d1f2a1fb",
   "metadata": {
    "jp-MarkdownHeadingCollapsed": true
   },
   "source": [
    "## 1. Install Libraries"
   ]
  },
  {
   "cell_type": "code",
   "execution_count": 3,
   "id": "5ef6f7ce-1097-4215-8285-6f6a616fe667",
   "metadata": {
    "execution": {
     "iopub.execute_input": "2025-02-07T03:09:26.741052Z",
     "iopub.status.busy": "2025-02-07T03:09:26.737595Z",
     "iopub.status.idle": "2025-02-07T03:12:16.120803Z",
     "shell.execute_reply": "2025-02-07T03:12:16.119812Z",
     "shell.execute_reply.started": "2025-02-07T03:09:26.741012Z"
    }
   },
   "outputs": [
    {
     "name": "stdout",
     "output_type": "stream",
     "text": [
      "Defaulting to user installation because normal site-packages is not writeable\n",
      "Looking in links: /usr/share/pip-wheels\n",
      "Collecting plotly==5.12.0\n",
      "  Obtaining dependency information for plotly==5.12.0 from https://files.pythonhosted.org/packages/37/13/906b97d68e7bc2c67f20a7784d223080df7777680f5bd12a242729c10699/plotly-5.12.0-py2.py3-none-any.whl.metadata\n",
      "  Downloading plotly-5.12.0-py2.py3-none-any.whl.metadata (7.0 kB)\n",
      "Requirement already satisfied: tenacity>=6.2.0 in /opt/conda/envs/anaconda-panel-2023.05-py310/lib/python3.11/site-packages (from plotly==5.12.0) (8.2.2)\n",
      "Downloading plotly-5.12.0-py2.py3-none-any.whl (15.2 MB)\n",
      "\u001b[2K   \u001b[38;5;70m━━━━━━━━━━━━━━━━━━━━━━━━━━━━━━━━━━━━━━━━\u001b[0m \u001b[32m15.2/15.2 MB\u001b[0m \u001b[31m50.3 MB/s\u001b[0m eta \u001b[36m0:00:00\u001b[0m \u001b[36m0:00:01\u001b[0m[36m0:00:01\u001b[0m\n",
      "\u001b[?25hInstalling collected packages: plotly\n",
      "^C\n",
      "\u001b[31mERROR: Operation cancelled by user\u001b[0m\u001b[31m\n",
      "\u001b[0mNote: you may need to restart the kernel to use updated packages.\n"
     ]
    }
   ],
   "source": [
    "pip install plotly==5.12.0"
   ]
  },
  {
   "cell_type": "markdown",
   "id": "70c7506c-8b32-471f-8b93-7b014b68c63a",
   "metadata": {},
   "source": [
    "## 2. Import Libraries"
   ]
  },
  {
   "cell_type": "code",
   "execution_count": 1,
   "id": "1cb06020",
   "metadata": {
    "execution": {
     "iopub.execute_input": "2025-02-07T14:44:13.858874Z",
     "iopub.status.busy": "2025-02-07T14:44:13.858031Z",
     "iopub.status.idle": "2025-02-07T14:44:17.223197Z",
     "shell.execute_reply": "2025-02-07T14:44:17.222604Z",
     "shell.execute_reply.started": "2025-02-07T14:44:13.858847Z"
    }
   },
   "outputs": [],
   "source": [
    "import pandas as pd\n",
    "import plotly.express as px\n",
    "import numpy as np\n",
    "import matplotlib.pyplot as plt\n",
    "import os\n",
    "from mpl_toolkits import mplot3d\n",
    "\n",
    "from plotly.offline import download_plotlyjs, init_notebook_mode\n",
    "from plotly.offline import plot, iplot\n",
    "import plotly.graph_objects as go"
   ]
  },
  {
   "cell_type": "markdown",
   "id": "4193ca6b-720e-49d0-83cd-d0219ae7f572",
   "metadata": {},
   "source": [
    "## 3. Import Datasets"
   ]
  },
  {
   "cell_type": "code",
   "execution_count": 3,
   "id": "e5b25050-fbb5-4a95-b459-793806f3ab5f",
   "metadata": {
    "execution": {
     "iopub.execute_input": "2025-02-07T14:44:25.130317Z",
     "iopub.status.busy": "2025-02-07T14:44:25.129700Z",
     "iopub.status.idle": "2025-02-07T14:44:25.133358Z",
     "shell.execute_reply": "2025-02-07T14:44:25.132673Z",
     "shell.execute_reply.started": "2025-02-07T14:44:25.130290Z"
    }
   },
   "outputs": [],
   "source": [
    "pd.set_option('display.max_columns', None)\n",
    "pd.set_option('display.max_rows', None)"
   ]
  },
  {
   "cell_type": "code",
   "execution_count": 5,
   "id": "72b992c3",
   "metadata": {
    "execution": {
     "iopub.execute_input": "2025-02-07T14:44:27.256292Z",
     "iopub.status.busy": "2025-02-07T14:44:27.255910Z",
     "iopub.status.idle": "2025-02-07T14:44:27.259952Z",
     "shell.execute_reply": "2025-02-07T14:44:27.258908Z",
     "shell.execute_reply.started": "2025-02-07T14:44:27.256261Z"
    }
   },
   "outputs": [],
   "source": [
    "path = r'/home/0668a905-109d-4403-be59-0a04abf51dd9/ClimateWins Analysis'"
   ]
  },
  {
   "cell_type": "code",
   "execution_count": null,
   "id": "9142c894",
   "metadata": {
    "execution": {
     "iopub.execute_input": "2025-02-07T14:44:30.136766Z",
     "iopub.status.busy": "2025-02-07T14:44:30.136462Z"
    }
   },
   "outputs": [],
   "source": [
    "#Read in the European weather data.\n",
    "climate = pd.read_csv(os.path.join(path, '01 Datasets', '02 Prepared Data', 'weather_scaled.csv'), index_col = False)\n",
    "climate"
   ]
  },
  {
   "cell_type": "code",
   "execution_count": null,
   "id": "de86977c",
   "metadata": {},
   "outputs": [],
   "source": [
    "#Reduce to just the mean temperatures\n",
    "df = climate[['DATE', 'MONTH','BASEL_temp_mean',\n",
    " 'BELGRADE_temp_mean',\n",
    " 'BUDAPEST_temp_mean',\n",
    " 'DEBILT_temp_mean',\n",
    " 'DUSSELDORF_temp_mean',\n",
    " 'GDANSK_temp_mean',\n",
    " 'HEATHROW_temp_mean',\n",
    " 'KASSEL_temp_mean',\n",
    " 'LJUBLJANA_temp_mean',\n",
    " 'MAASTRICHT_temp_mean',\n",
    " 'MADRID_temp_mean',\n",
    " 'MUNCHENB_temp_mean',\n",
    " 'OSLO_temp_mean',\n",
    " 'ROMA_temp_mean',\n",
    " 'SONNBLICK_temp_mean',\n",
    " 'STOCKHOLM_temp_mean',\n",
    " 'TOURS_temp_mean',\n",
    " 'VALENTIA_temp_mean']].copy()"
   ]
  },
  {
   "cell_type": "code",
   "execution_count": null,
   "id": "28670a62",
   "metadata": {},
   "outputs": [],
   "source": [
    "df"
   ]
  },
  {
   "cell_type": "code",
   "execution_count": null,
   "id": "5a856771",
   "metadata": {},
   "outputs": [],
   "source": [
    "#You'll need to reduce the dataset to only one year of data. Analyze and pick which year you want to use."
   ]
  },
  {
   "cell_type": "code",
   "execution_count": null,
   "id": "d00dc1a0",
   "metadata": {},
   "outputs": [],
   "source": [
    "#Drop the DATE and MONTH data as those numbers are not scaled with the rest.\n",
    "notemp = df.drop(['DATE','MONTH'], axis=1)"
   ]
  },
  {
   "cell_type": "code",
   "execution_count": null,
   "id": "f9ae4208",
   "metadata": {},
   "outputs": [],
   "source": [
    "#Look at a whisker plot of the data to see variations in temperatures\n",
    "notemp.boxplot(figsize=(15,15))\n",
    "plt.xticks(rotation=90)"
   ]
  },
  {
   "cell_type": "code",
   "execution_count": null,
   "id": "739173ea",
   "metadata": {},
   "outputs": [],
   "source": [
    "#Reduce your dataset to a single year\n",
    "dfyear = df[df['DATE'].astype(str).str.contains('1960')] #<-----INSERT YEAR HERE\n",
    "dfyear"
   ]
  },
  {
   "cell_type": "code",
   "execution_count": null,
   "id": "77cd7dd4",
   "metadata": {},
   "outputs": [],
   "source": [
    "dfyear.describe()"
   ]
  },
  {
   "cell_type": "code",
   "execution_count": null,
   "id": "0554de6f",
   "metadata": {},
   "outputs": [],
   "source": [
    "#Pick which weather station you want to use. Below is a 3D visualization of the temperatures for that year."
   ]
  },
  {
   "cell_type": "code",
   "execution_count": null,
   "id": "f1b9ad5c",
   "metadata": {},
   "outputs": [],
   "source": [
    "#Drop the DATE and MONTH data as those numbers are not scaled with the rest.\n",
    "notempyear = dfyear.drop(['DATE','MONTH'], axis=1)"
   ]
  },
  {
   "cell_type": "code",
   "execution_count": null,
   "id": "7b15968e",
   "metadata": {},
   "outputs": [],
   "source": [
    "#Plot ALL weather data for all stations for a year \n",
    "\n",
    "#X = weather station\n",
    "#Y = day of the year\n",
    "#Z = temperature\n",
    "\n",
    "#you can click/hold in the graph below to rotate!\n",
    "\n",
    "fig = go.Figure(data=[go.Surface(z=notempyear.values)])\n",
    "fig.update_layout(title='Temperatures over time', autosize=False,\n",
    "                  width=600, height=600)\n",
    "fig.show()"
   ]
  },
  {
   "cell_type": "code",
   "execution_count": null,
   "id": "7ae3502d",
   "metadata": {},
   "outputs": [],
   "source": [
    "#We need to make an index for the year. Create a set of data from 1 to 365 (or to 366 if it's a leap year!)\n",
    "#We'll scale this by 100 as the index is made. This will help teh gradient descent converge 366 = 3.66\n",
    "\n",
    "i = np.arange(0.01,3.66,0.01) #<---needs to be one GREATER than the total number of days\n",
    "index = pd.DataFrame(data = i, columns = ['index'])\n",
    "index"
   ]
  },
  {
   "cell_type": "code",
   "execution_count": null,
   "id": "7897a22c",
   "metadata": {},
   "outputs": [],
   "source": [
    "n_rows = dfyear.shape[0]\n",
    "n_rows"
   ]
  },
  {
   "cell_type": "code",
   "execution_count": null,
   "id": "31f19f40",
   "metadata": {},
   "outputs": [],
   "source": [
    "#This will translate your chosen weather data into the X and y datasets needed for the optimization function.\n",
    "\n",
    "X=index.to_numpy().reshape(n_rows,1)\n",
    "#Represent x_0 as a vector of 1s for vector computation\n",
    "ones = np.ones((n_rows,1))\n",
    "X = np.concatenate((ones, X), axis=1)\n",
    "y=dfyear['STATION_temp_mean'].to_numpy().reshape(n_rows,1) #<----INSERT WEATHER STATION HERE"
   ]
  },
  {
   "cell_type": "code",
   "execution_count": null,
   "id": "dd319406",
   "metadata": {},
   "outputs": [],
   "source": [
    "X.shape, y.shape"
   ]
  },
  {
   "cell_type": "code",
   "execution_count": null,
   "id": "89d6be51",
   "metadata": {},
   "outputs": [],
   "source": [
    "#Look at one year of temperature data over time\n",
    "plt.scatter(x=index['index'], y=dfyear['STATION_temp_mean']) #<----INSERT WEATHER STATION HERE\n",
    "plt.xlabel('X'); plt.ylabel('y');\n",
    "plt.title('Input dataset');"
   ]
  },
  {
   "cell_type": "code",
   "execution_count": null,
   "id": "ac0ab6b7",
   "metadata": {},
   "outputs": [],
   "source": [
    "#what is the min temperature? (Note gradient descent is not actually finding this number)\n",
    "dfyear['STATION_temp_mean'].min()"
   ]
  },
  {
   "cell_type": "code",
   "execution_count": null,
   "id": "7fb51050",
   "metadata": {},
   "outputs": [],
   "source": [
    "#what is the max temperature? (Note gradient descent is not actually finding this number)\n",
    "dfyear['STATION_temp_mean'].max()"
   ]
  },
  {
   "cell_type": "code",
   "execution_count": null,
   "id": "43e7ae60",
   "metadata": {},
   "outputs": [],
   "source": [
    "#This computes the loss function for the gradiant descent. DO NOT CHANGE!\n",
    "\n",
    "def compute_cost(X, y, theta=np.array([[0],[0]])):\n",
    "    \"\"\"Given covariate matrix X, the prediction results y and coefficients theta\n",
    "    compute the loss\"\"\"\n",
    "    \n",
    "    m = len(y)\n",
    "    J=0 # initialize loss to zero\n",
    "    \n",
    "    # reshape theta\n",
    "    theta=theta.reshape(2,1)\n",
    "    \n",
    "    # calculate the hypothesis - y_hat\n",
    "    h_x = np.dot(X,theta)\n",
    "    #print(h_x)\n",
    "    \n",
    "    # subtract y from y_hat, square and sum\n",
    "    error_term = sum((h_x - y)**2)\n",
    "    \n",
    "    # divide by twice the number of samples - standard practice.\n",
    "    loss = error_term/(2*m)\n",
    "    \n",
    "    return loss"
   ]
  },
  {
   "cell_type": "code",
   "execution_count": null,
   "id": "97aec9d9",
   "metadata": {},
   "outputs": [],
   "source": [
    "compute_cost(X,y)"
   ]
  },
  {
   "cell_type": "code",
   "execution_count": null,
   "id": "38627745",
   "metadata": {},
   "outputs": [],
   "source": [
    "#This is the gradiant descent function. DO NOT CHANGE!\n",
    "\n",
    "def gradient_descent(X, y, theta=np.array([[0],[0]]),\n",
    "                    alpha=0.01, num_iterations=1500):\n",
    "    \"\"\"\n",
    "    Solve for theta using Gradient Descent optimiztion technique. \n",
    "    Alpha is the learning rate\n",
    "    \"\"\"\n",
    "    m = len(y)\n",
    "    J_history = []\n",
    "    theta0_history = []\n",
    "    theta1_history = []\n",
    "    theta = theta.reshape(2,1)\n",
    "    \n",
    "    for i in range(num_iterations):\n",
    "        error = (np.dot(X, theta) - y)\n",
    "        \n",
    "        term0 = (alpha/m) * sum(error* X[:,0].reshape(m,1))\n",
    "        term1 = (alpha/m) * sum(error* X[:,1].reshape(m,1))\n",
    "        \n",
    "        # update theta\n",
    "        term_vector = np.array([[term0],[term1]])\n",
    "        #print(term_vector)\n",
    "        theta = theta - term_vector.reshape(2,1)\n",
    "        \n",
    "        # store history values\n",
    "        theta0_history.append(theta[0].tolist()[0])\n",
    "        theta1_history.append(theta[1].tolist()[0])\n",
    "        J_history.append(compute_cost(X,y,theta).tolist()[0])\n",
    "        \n",
    "    return (theta, J_history, theta0_history, theta1_history)"
   ]
  },
  {
   "cell_type": "code",
   "execution_count": null,
   "id": "615cda81",
   "metadata": {},
   "outputs": [],
   "source": [
    "%%time\n",
    "#This runs your data through a gradiant descent for the starting conditions in 'theta_init.'\n",
    "#You will need to adjust these numbers\n",
    "\n",
    "num_iterations=10 #<---Decide how many iterations you need. Start small and work up. Over 10,000 iterations will take a few seconds.\n",
    "theta_init=np.array([[-10],[-5]]) #<---this is where you put the guess for [theta0], [theta1]. Start with 1 and 1.\n",
    "alpha=0.1 #<---Decide what your step size is. Try values between 0.1 and 0.00001. You will need to adjust your iterations.\n",
    "#If your solution is not converging, try a smaller step size.\n",
    "theta, J_history, theta0_history, theta1_history = gradient_descent(X,y, theta_init,\n",
    "                                                                   alpha, num_iterations)"
   ]
  },
  {
   "cell_type": "code",
   "execution_count": null,
   "id": "d8f53115",
   "metadata": {},
   "outputs": [],
   "source": [
    "theta"
   ]
  },
  {
   "cell_type": "code",
   "execution_count": null,
   "id": "c0ffa7ea",
   "metadata": {},
   "outputs": [],
   "source": [
    "#This will plot your loss, theta0, and theta1.If the result looks like a straight line, it's not converging on an answer!\n",
    "#Your loss (red) should be trending toward 0.\n",
    "\n",
    "fig, ax1 = plt.subplots()\n",
    "\n",
    "# plot thetas over time\n",
    "color='tab:blue'\n",
    "ax1.plot(theta0_history, label='$\\\\theta_{0}$', linestyle='--', color=color)\n",
    "ax1.plot(theta1_history, label='$\\\\theta_{1}$', linestyle='-', color=color)\n",
    "# ax1.legend()\n",
    "ax1.set_xlabel('Iterations'); ax1.set_ylabel('$\\\\theta$', color=color);\n",
    "ax1.tick_params(axis='y', labelcolor=color)\n",
    "\n",
    "# plot loss function over time\n",
    "color='tab:red'\n",
    "ax2 = ax1.twinx()\n",
    "ax2.plot(J_history, label='Loss function', color=color)\n",
    "ax2.set_title('Values of $\\\\theta$ and $J(\\\\theta)$ over iterations')\n",
    "ax2.set_ylabel('Loss: $J(\\\\theta)$', color=color)\n",
    "ax1.tick_params(axis='y', labelcolor=color)\n",
    "\n",
    "# ax2.legend();\n",
    "fig.legend();"
   ]
  },
  {
   "cell_type": "code",
   "execution_count": null,
   "id": "d44ed155",
   "metadata": {},
   "outputs": [],
   "source": [
    "%%time\n",
    "# theta range\n",
    "theta0_vals = np.linspace(-10,10,100) #Look in the chart above for the limits of where theta0 and theta1 appear.\n",
    "theta1_vals = np.linspace(-10,10,100) #Put those values as the first two \"linspace\" numbers in these lines\n",
    "                                      #Select with large margins, maybe +/- 10\n",
    "J_vals = np.zeros((len(theta0_vals), len(theta1_vals)))\n",
    "\n",
    "# compute cost for each combination of theta\n",
    "c1=0; c2=0\n",
    "for i in theta0_vals:\n",
    "    for j in theta1_vals:\n",
    "        t = np.array([i, j])\n",
    "        J_vals[c1][c2] = compute_cost(X, y, t.transpose()).tolist()[0]\n",
    "        c2=c2+1\n",
    "    c1=c1+1\n",
    "    c2=0 # reinitialize to 0"
   ]
  },
  {
   "cell_type": "code",
   "execution_count": null,
   "id": "097228b0",
   "metadata": {},
   "outputs": [],
   "source": [
    "#This figure shows the loss function.\n",
    "\n",
    "#X = Theta0\n",
    "#Y - Theta1\n",
    "#Z = Loss\n",
    "#Find where it is closest to 0 in X and Y!\n",
    "\n",
    "#you can click/hold in the graph below to rotate!\n",
    "\n",
    "fig = go.Figure(data=[go.Surface(x=theta1_vals, y=theta0_vals, z=J_vals)])\n",
    "fig.update_layout(title='Loss function for different thetas', autosize=True,\n",
    "                  width=600, height=600, xaxis_title='theta0', \n",
    "                 yaxis_title='theta1')\n",
    "fig.show()"
   ]
  },
  {
   "cell_type": "code",
   "execution_count": null,
   "id": "08e3b008",
   "metadata": {},
   "outputs": [],
   "source": [
    "#Here is the same figure as above, with the line the loss function takes toward the minimum.\n",
    "\n",
    "#X = Theta0\n",
    "#Y - Theta1\n",
    "#Z = Loss\n",
    "#black line = path of loss function over the iterations.\n",
    "#Find where it is closest to 0 in X and Y!\n",
    "\n",
    "#you can click/hold in the graph below to rotate!\n",
    "\n",
    "line_marker = dict(color='#101010', width=2)\n",
    "fig = go.Figure()\n",
    "fig.add_surface(x=theta1_vals, y=theta0_vals, z=J_vals)\n",
    "fig.add_scatter3d(x=theta1_history, y=theta0_history, z=J_history, line=line_marker, name='')\n",
    "#The below line adds a graph of just the loss over iterations in a 2D plane\n",
    "plt.plot(theta0_history, theta1_history, 'r+');\n",
    "fig.update_layout(title='Loss function for different thetas', autosize=True,\n",
    "                  width=600, height=600, xaxis_title='theta0', \n",
    "                 yaxis_title='theta1')\n",
    "fig.show()"
   ]
  },
  {
   "cell_type": "code",
   "execution_count": null,
   "id": "3978acc8",
   "metadata": {},
   "outputs": [],
   "source": [
    "#Rerun the optimization above, but this time start closer to the objective!\n",
    "#Find where the black line ends near the lowest X/Y/Z coordinate and make that your guess below.\n",
    "\n",
    "num_iterations=10 #<---start with the same iterations as above\n",
    "theta_init=np.array([[1],[1]]) #<---make a guess as to a more accurate [x],[y] coordinates near the minimum in the graph above.\n",
    "alpha= 0.1 #<---start with the same step size as above\n",
    "theta1, J_history1, theta0_history1, theta1_history1 = gradient_descent(X,y, theta_init,\n",
    "                                                                   alpha, num_iterations)"
   ]
  },
  {
   "cell_type": "code",
   "execution_count": null,
   "id": "1c593cff",
   "metadata": {},
   "outputs": [],
   "source": [
    "#Let's look at the new loss path on the function. It should start much closer to the goal\n",
    "\n",
    "line_marker = dict(color='#101010', width=2)\n",
    "fig = go.Figure()\n",
    "fig.add_surface(x=theta1_vals, y=theta0_vals, z=J_vals)\n",
    "fig.add_scatter3d(x=theta1_history1, y=theta0_history1, z=J_history1, line=line_marker, name='')\n",
    "#The below line adds a graph of just the loss over iterations in a 2D plane\n",
    "plt.plot(theta0_history1, theta1_history1, 'r+');\n",
    "fig.update_layout(title='Loss function for different thetas', autosize=True,\n",
    "                  width=600, height=600, xaxis_title='theta0', \n",
    "                 yaxis_title='theta1')\n",
    "fig.show()"
   ]
  },
  {
   "cell_type": "code",
   "execution_count": null,
   "id": "ac7a76c4",
   "metadata": {},
   "outputs": [],
   "source": [
    "#This plot shows the convergence similar to above, but only in the X/Y plane (there's no height)\n",
    "\n",
    "plt.contour(theta0_vals, theta1_vals, J_vals, levels = np.logspace(0,10,1000))\n",
    "plt.xlabel('$\\\\theta_{0}$'); plt.ylabel(\"$\\\\theta_{1}$\")\n",
    "plt.title(\"Contour plot of loss function for different values of $\\\\theta$s\");\n",
    "plt.plot(theta0_history1, theta1_history1, 'r+');"
   ]
  },
  {
   "cell_type": "code",
   "execution_count": null,
   "id": "acdb120d",
   "metadata": {},
   "outputs": [],
   "source": [
    "#How well does gradient descent converge? How much do you need to adjust between different weather stations and years?"
   ]
  }
 ],
 "metadata": {
  "kernelspec": {
   "display_name": "anaconda-panel-2023.05-py310",
   "language": "python",
   "name": "conda-env-anaconda-panel-2023.05-py310-py"
  },
  "language_info": {
   "codemirror_mode": {
    "name": "ipython",
    "version": 3
   },
   "file_extension": ".py",
   "mimetype": "text/x-python",
   "name": "python",
   "nbconvert_exporter": "python",
   "pygments_lexer": "ipython3",
   "version": "3.11.5"
  }
 },
 "nbformat": 4,
 "nbformat_minor": 5
}
